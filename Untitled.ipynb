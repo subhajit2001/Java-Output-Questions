{
 "cells": [
  {
   "cell_type": "code",
   "execution_count": 23,
   "metadata": {},
   "outputs": [
    {
     "name": "stdout",
     "output_type": "stream",
     "text": [
      "   dailyconfirmed dailydeceased dailyrecovered          date totalconfirmed  \\\n",
      "0               1             0              0   30 January               1   \n",
      "1               0             0              0   31 January               1   \n",
      "2               0             0              0  01 February               1   \n",
      "3               1             0              0  02 February               2   \n",
      "4               1             0              0  03 February               3   \n",
      "..            ...           ...            ...           ...            ...   \n",
      "89           1902            69            636     28 April           31360   \n",
      "90           1705            71            690     29 April           33065   \n",
      "91           1801            75            630     30 April           34866   \n",
      "92           2396            77            962       01 May           37262   \n",
      "93           2567            92            831       02 May           39829   \n",
      "\n",
      "   totaldeceased totalrecovered  \n",
      "0              0              0  \n",
      "1              0              0  \n",
      "2              0              0  \n",
      "3              0              0  \n",
      "4              0              0  \n",
      "..           ...            ...  \n",
      "89          1008           7739  \n",
      "90          1079           8429  \n",
      "91          1154           9059  \n",
      "92          1231          10021  \n",
      "93          1323          10852  \n",
      "\n",
      "[94 rows x 7 columns]\n"
     ]
    }
   ],
   "source": [
    "import pandas as pd\n",
    "import requests\n",
    "\n",
    "api_url = \"https://api.covid19india.org/data.json\"\n",
    "\n",
    "#call the api\n",
    "response = requests.get(api_url)\n",
    "\n",
    "#isolate the data\n",
    "data = response.json()\n",
    "\n",
    "#cases_time_series data\n",
    "cases_time_series = pd.DataFrame(data['cases_time_series'])\n",
    "\n",
    "#change to date and time\n",
    "#cases_time_series.date = pd.to_datetime(cases_time_series.date)\n",
    "\n",
    "print(cases_time_series.head(100))\n"
   ]
  },
  {
   "cell_type": "code",
   "execution_count": 24,
   "metadata": {},
   "outputs": [
    {
     "name": "stdout",
     "output_type": "stream",
     "text": [
      "dailyconfirmed    object\n",
      "dailydeceased     object\n",
      "dailyrecovered    object\n",
      "date              object\n",
      "totalconfirmed    object\n",
      "totaldeceased     object\n",
      "totalrecovered    object\n",
      "dtype: object\n"
     ]
    },
    {
     "data": {
      "image/png": "[encoded data removed]",
      "text/plain": [
       "<Figure size 432x288 with 1 Axes>"
      ]
     },
     "metadata": {
      "needs_background": "light"
     },
     "output_type": "display_data"
    }
   ],
   "source": [
    "cases_time_series['totalconfirmed'].infer_objects()\n",
    "\n",
    "print(cases_time_series.dtypes)\n",
    "\n",
    "import matplotlib.pyplot as plt\n",
    "\n",
    "plt.plot(cases_time_series.index,cases_time_series['totalconfirmed'])\n",
    "\n",
    "plt.show()"
   ]
  },
  {
   "cell_type": "code",
   "execution_count": null,
   "metadata": {},
   "outputs": [],
   "source": []
  }
 ],
 "metadata": {
  "kernelspec": {
   "display_name": "Python 3",
   "language": "python",
   "name": "python3"
  },
  "language_info": {
   "codemirror_mode": {
    "name": "ipython",
    "version": 3
   },
   "file_extension": ".py",
   "mimetype": "text/x-python",
   "name": "python",
   "nbconvert_exporter": "python",
   "pygments_lexer": "ipython3",
   "version": "3.7.4"
  }
 },
 "nbformat": 4,
 "nbformat_minor": 2
}
